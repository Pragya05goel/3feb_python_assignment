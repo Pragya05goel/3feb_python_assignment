{
 "cells": [
  {
   "cell_type": "markdown",
   "id": "d68741e8-6304-444e-a682-26810a73f376",
   "metadata": {},
   "source": [
    "## ASSIGNMENT"
   ]
  },
  {
   "cell_type": "markdown",
   "id": "2d002b9e-a3b9-4b29-a93c-43c9cb295304",
   "metadata": {},
   "source": [
    "Q1. Which keyword is used to create a function? Create a function to return a list of odd numbers in the\n",
    "range of 1 to 25."
   ]
  },
  {
   "cell_type": "markdown",
   "id": "de1fa413-027f-4c0e-bf51-19675814ad0b",
   "metadata": {},
   "source": [
    "def keyword is used to create a function."
   ]
  },
  {
   "cell_type": "code",
   "execution_count": 1,
   "id": "dffeea4b-2773-4131-8a7c-3d3ce19aae4f",
   "metadata": {},
   "outputs": [
    {
     "data": {
      "text/plain": [
       "[1, 3, 5, 7, 9, 11, 13, 15, 17, 19, 21, 23, 25]"
      ]
     },
     "execution_count": 1,
     "metadata": {},
     "output_type": "execute_result"
    }
   ],
   "source": [
    "def list_odd(l):\n",
    "    l1=[]\n",
    "    for i in l:\n",
    "        if i%2!=0:\n",
    "            l1.append(i)\n",
    "    return l1    \n",
    "\n",
    "list_odd(range(1,26))    "
   ]
  },
  {
   "cell_type": "markdown",
   "id": "f9259973-06b4-42d7-9ab0-d95b53a73426",
   "metadata": {},
   "source": [
    "Q2. Why *args and **kwargs is used in some functions? Create a function each for *args and **kwargs to\n",
    "demonstrate their use."
   ]
  },
  {
   "cell_type": "markdown",
   "id": "36f4dcdc-ad50-4b1c-9cd7-e2f991a36711",
   "metadata": {},
   "source": [
    "The special syntax *args in function definitions in python is used to pass a variable number of arguments to a function. It is used to pass a non-key worded, variable-length argument list. \n",
    "\n",
    "The syntax is to use the symbol * to take in a variable number of arguments; by convention, it is often used with the word args.\n",
    "\n",
    "It *args allows you to do is take in more arguments than the number of formal arguments that you previously defined. With *args, any number of extra arguments can be tacked on to our current formal parameters (including zero extra arguments).\n",
    "\n",
    "For example, we want to make a multiply function that takes any number of arguments and is able to multiply them all together. It can be done using *args.\n",
    "\n",
    "Using the *, the variable that we associate with the * becomes an iterable meaning you can do things like iterate over it, run some higher-order functions such as map and filter, etc."
   ]
  },
  {
   "cell_type": "code",
   "execution_count": 2,
   "id": "5f71f406-80bf-42ad-8d76-d16f61fede30",
   "metadata": {},
   "outputs": [
    {
     "name": "stdout",
     "output_type": "stream",
     "text": [
      "Hello\n",
      "Welcome\n",
      "to\n",
      "the\n",
      "world\n",
      "of\n",
      "Data Science\n"
     ]
    }
   ],
   "source": [
    "## Example of *args\n",
    "def myFun(*args):\n",
    "    for arg in args:\n",
    "        print(arg)\n",
    " \n",
    " \n",
    "myFun('Hello', 'Welcome', 'to','the','world','of', 'Data Science')"
   ]
  },
  {
   "cell_type": "markdown",
   "id": "7c4664c9-fb35-4399-9ead-fc22858c7eca",
   "metadata": {},
   "source": [
    "The special syntax **kwargs in function definitions in python is used to pass a keyworded, variable-length argument list. We use the name kwargs with the double star. The reason is that the double star allows us to pass through keyword arguments (and any number of them).\n",
    "\n",
    "A keyword argument is where we provide a name to the variable as you pass it into the function.\n",
    "\n",
    "One can think of the kwargs as being a dictionary that maps each keyword to the value that we pass alongside it. That is why when we iterate over the kwargs there doesn’t seem to be any order in which they were printed out."
   ]
  },
  {
   "cell_type": "code",
   "execution_count": 3,
   "id": "3d041ea2-7223-4b9e-8daf-a1de38377fa0",
   "metadata": {},
   "outputs": [
    {
     "name": "stdout",
     "output_type": "stream",
     "text": [
      "('first', 'Data')\n",
      "('mid', 'Science')\n",
      "('last', 'Masters')\n"
     ]
    }
   ],
   "source": [
    "## Example of **kwargs\n",
    "def myFun(**kwargs):\n",
    "    for key, value in kwargs.items():\n",
    "        print( (key, value))\n",
    " \n",
    " \n",
    "\n",
    "myFun(first='Data', mid='Science', last='Masters')"
   ]
  },
  {
   "cell_type": "markdown",
   "id": "0fe1274c-ee92-4675-8184-65ab5362e8a1",
   "metadata": {},
   "source": [
    "Q3. What is an iterator in python? Name the method used to initialise the iterator object and the method\n",
    "used for iteration. Use these methods to print the first five elements of the given list \n",
    "\n",
    "[2, 4, 6, 8, 10, 12, 14, 16,\n",
    "18, 20]."
   ]
  },
  {
   "cell_type": "markdown",
   "id": "19128385-9a1b-4b3b-ab7e-884ae119c449",
   "metadata": {},
   "source": [
    "Iterator in Python is an object that is used to iterate over iterable objects like lists, tuples, dicts, and sets. The iterator object is initialized using the iter() method. It uses the next() method for iteration.\n",
    "\n",
    "__iter__(): The iter() method is called for the initialization of an iterator. This returns an iterator object\n",
    "\n",
    "__next__(): The next method returns the next value for the iterable. When we use a for loop to traverse any iterable object, internally it uses the iter() method to get an iterator object, which further uses the next() method to iterate over. This method raises a StopIteration to signal the end of the iteration.\n"
   ]
  },
  {
   "cell_type": "code",
   "execution_count": 4,
   "id": "afafb15a-1f4d-43d1-82fe-96b0e4a0360d",
   "metadata": {},
   "outputs": [
    {
     "name": "stdout",
     "output_type": "stream",
     "text": [
      "D\n",
      "S\n",
      "M\n"
     ]
    }
   ],
   "source": [
    "## Example\n",
    "string = \"DSM\"\n",
    "ch_iterator = iter(string)\n",
    " \n",
    "print(next(ch_iterator))\n",
    "print(next(ch_iterator))\n",
    "print(next(ch_iterator))"
   ]
  },
  {
   "cell_type": "code",
   "execution_count": 5,
   "id": "d912d118-5531-4061-aa37-b9f28435c3e1",
   "metadata": {},
   "outputs": [],
   "source": [
    "lst=[2, 4, 6, 8, 10, 12, 14, 16, 18, 20]"
   ]
  },
  {
   "cell_type": "code",
   "execution_count": 6,
   "id": "d5b9e4e1-e070-4e11-90fe-293fdae3dc39",
   "metadata": {},
   "outputs": [
    {
     "name": "stdout",
     "output_type": "stream",
     "text": [
      "2\n",
      "4\n",
      "6\n",
      "8\n",
      "10\n"
     ]
    }
   ],
   "source": [
    "lst_iterator=iter(lst)\n",
    "\n",
    "i=0\n",
    "while(i<5):\n",
    "    print(next(lst_iterator))\n",
    "    i=i+1\n"
   ]
  },
  {
   "cell_type": "markdown",
   "id": "3039cde4-69cc-419f-8c5f-6f9c4f95c08b",
   "metadata": {},
   "source": [
    "Q4. What is a generator function in python? Why yield keyword is used? Give an example of a generator\n",
    "function."
   ]
  },
  {
   "cell_type": "markdown",
   "id": "f7ef08e7-8e11-459b-bb9e-c475aaea4def",
   "metadata": {},
   "source": [
    "A generator-function is like a normal function, but whenever it needs to generate a value, it does so with the yield keyword rather than return. If the body of a def contains yield, the function automatically becomes a generator function. \n",
    "\n",
    "yield keyword is used to create a generator function. A type of function that is memory efficient and can be used like an iterator object.\n",
    "\n",
    "The yield keyword will turn any expression that is given with it into a generator object and return it to the caller.\n",
    "\n",
    "Using yield keyword is highly memory efficient, since the execution happens only when the caller iterates over the object.\n",
    "\n",
    "As the variables states are saved, we can pause and resume from the same point, thus saving time."
   ]
  },
  {
   "cell_type": "code",
   "execution_count": 7,
   "id": "3582cad9-d242-4fbf-8ca4-722940c6ce2a",
   "metadata": {},
   "outputs": [
    {
     "name": "stdout",
     "output_type": "stream",
     "text": [
      "1\n",
      "2\n",
      "3\n"
     ]
    }
   ],
   "source": [
    "## Example of generator function\n",
    "def simpleGeneratorFun():\n",
    "    yield 1           \n",
    "    yield 2           \n",
    "    yield 3           \n",
    "  \n",
    "for value in simpleGeneratorFun():\n",
    "    print(value)"
   ]
  },
  {
   "cell_type": "markdown",
   "id": "b475cd38-4a7e-4693-ad82-8073c250f400",
   "metadata": {},
   "source": [
    "Q5. Create a generator function for prime numbers less than 1000. Use the next() method to print the\n",
    "first 20 prime numbers."
   ]
  },
  {
   "cell_type": "code",
   "execution_count": 8,
   "id": "a3b60e78-d217-45fa-a11e-fe0ebe0e5435",
   "metadata": {},
   "outputs": [],
   "source": [
    "def prime_no(n):\n",
    "    for i in range(1,n):\n",
    "        c=0\n",
    "        for j in range(1,i+1):\n",
    "            if i%j==0:\n",
    "                c=c+1\n",
    "        if c==2:\n",
    "            yield i"
   ]
  },
  {
   "cell_type": "code",
   "execution_count": 9,
   "id": "332151b5-d1b8-482c-b1ac-8d4f868f0904",
   "metadata": {},
   "outputs": [],
   "source": [
    "l=[]\n",
    "for k in prime_no(1000):\n",
    "    l.append(k)\n"
   ]
  },
  {
   "cell_type": "code",
   "execution_count": 10,
   "id": "4ce131c5-03fd-47ba-979a-ea59bf1b3e28",
   "metadata": {},
   "outputs": [
    {
     "name": "stdout",
     "output_type": "stream",
     "text": [
      "2\n",
      "3\n",
      "5\n",
      "7\n",
      "11\n",
      "13\n",
      "17\n",
      "19\n",
      "23\n",
      "29\n",
      "31\n",
      "37\n",
      "41\n",
      "43\n",
      "47\n",
      "53\n",
      "59\n",
      "61\n",
      "67\n",
      "71\n"
     ]
    }
   ],
   "source": [
    "l_iterator=iter(l)\n",
    "i=0\n",
    "while(i<20):\n",
    "    print(next(l_iterator))\n",
    "    i=i+1"
   ]
  },
  {
   "cell_type": "markdown",
   "id": "e70ce883-5047-466e-8f39-2f99fd7ba11d",
   "metadata": {},
   "source": [
    "---"
   ]
  }
 ],
 "metadata": {
  "kernelspec": {
   "display_name": "Python 3 (ipykernel)",
   "language": "python",
   "name": "python3"
  },
  "language_info": {
   "codemirror_mode": {
    "name": "ipython",
    "version": 3
   },
   "file_extension": ".py",
   "mimetype": "text/x-python",
   "name": "python",
   "nbconvert_exporter": "python",
   "pygments_lexer": "ipython3",
   "version": "3.10.8"
  }
 },
 "nbformat": 4,
 "nbformat_minor": 5
}
